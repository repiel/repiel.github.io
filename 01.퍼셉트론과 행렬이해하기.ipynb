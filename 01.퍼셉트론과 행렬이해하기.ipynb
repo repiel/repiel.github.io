{
 "cells": [
  {
   "cell_type": "code",
   "execution_count": 1,
   "id": "3e95b9c1",
   "metadata": {},
   "outputs": [],
   "source": [
    "import numpy as np"
   ]
  },
  {
   "cell_type": "code",
   "execution_count": 2,
   "id": "2b5ffba8",
   "metadata": {},
   "outputs": [],
   "source": [
    "import matplotlib.pyplot as plt"
   ]
  },
  {
   "cell_type": "code",
   "execution_count": 3,
   "id": "3c0b315f",
   "metadata": {},
   "outputs": [],
   "source": [
    "def NAND(x1, x2):\n",
    "    x = np.array([x1, x2])\n",
    "    w = np.array([-0.5, -0.5])\n",
    "    b = 0.7\n",
    "    tmp = np.sum(w*x) + b\n",
    "    if tmp <= 0:\n",
    "        return 0\n",
    "    else:\n",
    "        return 1"
   ]
  },
  {
   "cell_type": "code",
   "execution_count": 4,
   "id": "8c974f89",
   "metadata": {},
   "outputs": [],
   "source": [
    "def OR(x1, x2):\n",
    "    x = np.array([x1, x2])\n",
    "    w = np.array([0.5, 0.5])\n",
    "    b = -0.2\n",
    "    tmp = np.sum(w*x)+b\n",
    "    if tmp <= 0:\n",
    "        return 0\n",
    "    else:\n",
    "        return 1"
   ]
  },
  {
   "cell_type": "code",
   "execution_count": 5,
   "id": "659440ea",
   "metadata": {},
   "outputs": [
    {
     "name": "stdout",
     "output_type": "stream",
     "text": [
      "1\n",
      "1\n",
      "0\n"
     ]
    }
   ],
   "source": [
    "print(OR(0,1))\n",
    "print(OR(1,0))\n",
    "print(OR(0,0))"
   ]
  },
  {
   "cell_type": "code",
   "execution_count": 6,
   "id": "7ab7b276",
   "metadata": {},
   "outputs": [],
   "source": [
    "def XOR(x1, x2):\n",
    "    x = np.array([x1, x2])\n",
    "    w = np.array([0.5, 0.5])\n",
    "    b = -0.1\n",
    "    tmp = np.sum(w*x)+b\n",
    "    if tmp <= 0:\n",
    "        return 0\n",
    "    else:\n",
    "        return 1"
   ]
  },
  {
   "cell_type": "code",
   "execution_count": 7,
   "id": "b5e1aa4a",
   "metadata": {},
   "outputs": [
    {
     "name": "stdout",
     "output_type": "stream",
     "text": [
      "1\n",
      "1\n",
      "0\n"
     ]
    }
   ],
   "source": [
    "print(XOR(0,1))\n",
    "print(XOR(1,0))\n",
    "print(XOR(0,0))"
   ]
  },
  {
   "cell_type": "code",
   "execution_count": 8,
   "id": "74cd4c96",
   "metadata": {},
   "outputs": [
    {
     "data": {
      "text/plain": [
       "{'data': array([[0.30991736, 0.3677686 , 0.41735536, ..., 0.15289256, 0.16115703,\n",
       "         0.1570248 ],\n",
       "        [0.45454547, 0.47107437, 0.5123967 , ..., 0.15289256, 0.15289256,\n",
       "         0.15289256],\n",
       "        [0.3181818 , 0.40082645, 0.49173555, ..., 0.14049587, 0.14876033,\n",
       "         0.15289256],\n",
       "        ...,\n",
       "        [0.5       , 0.53305787, 0.607438  , ..., 0.17768595, 0.14876033,\n",
       "         0.19008264],\n",
       "        [0.21487603, 0.21900827, 0.21900827, ..., 0.57438016, 0.59090906,\n",
       "         0.60330576],\n",
       "        [0.5165289 , 0.46280992, 0.28099173, ..., 0.35950413, 0.3553719 ,\n",
       "         0.38429752]], dtype=float32),\n",
       " 'images': array([[[0.30991736, 0.3677686 , 0.41735536, ..., 0.37190083,\n",
       "          0.3305785 , 0.30578512],\n",
       "         [0.3429752 , 0.40495867, 0.43801653, ..., 0.37190083,\n",
       "          0.338843  , 0.3140496 ],\n",
       "         [0.3429752 , 0.41735536, 0.45041323, ..., 0.38016528,\n",
       "          0.338843  , 0.29752067],\n",
       "         ...,\n",
       "         [0.21487603, 0.20661157, 0.2231405 , ..., 0.15289256,\n",
       "          0.16528925, 0.17355372],\n",
       "         [0.20247933, 0.2107438 , 0.2107438 , ..., 0.14876033,\n",
       "          0.16115703, 0.16528925],\n",
       "         [0.20247933, 0.20661157, 0.20247933, ..., 0.15289256,\n",
       "          0.16115703, 0.1570248 ]],\n",
       " \n",
       "        [[0.45454547, 0.47107437, 0.5123967 , ..., 0.19008264,\n",
       "          0.18595041, 0.18595041],\n",
       "         [0.446281  , 0.48347107, 0.5206612 , ..., 0.21487603,\n",
       "          0.2107438 , 0.2107438 ],\n",
       "         [0.49586776, 0.5165289 , 0.53305787, ..., 0.20247933,\n",
       "          0.20661157, 0.20661157],\n",
       "         ...,\n",
       "         [0.77272725, 0.78099173, 0.7933884 , ..., 0.1446281 ,\n",
       "          0.1446281 , 0.1446281 ],\n",
       "         [0.77272725, 0.7768595 , 0.7892562 , ..., 0.13636364,\n",
       "          0.13636364, 0.13636364],\n",
       "         [0.7644628 , 0.7892562 , 0.78099173, ..., 0.15289256,\n",
       "          0.15289256, 0.15289256]],\n",
       " \n",
       "        [[0.3181818 , 0.40082645, 0.49173555, ..., 0.40082645,\n",
       "          0.3553719 , 0.30991736],\n",
       "         [0.30991736, 0.3966942 , 0.47933885, ..., 0.40495867,\n",
       "          0.37603307, 0.30165288],\n",
       "         [0.26859504, 0.34710744, 0.45454547, ..., 0.3966942 ,\n",
       "          0.37190083, 0.30991736],\n",
       "         ...,\n",
       "         [0.1322314 , 0.09917355, 0.08264463, ..., 0.13636364,\n",
       "          0.14876033, 0.15289256],\n",
       "         [0.11570248, 0.09504132, 0.0785124 , ..., 0.1446281 ,\n",
       "          0.1446281 , 0.1570248 ],\n",
       "         [0.11157025, 0.09090909, 0.0785124 , ..., 0.14049587,\n",
       "          0.14876033, 0.15289256]],\n",
       " \n",
       "        ...,\n",
       " \n",
       "        [[0.5       , 0.53305787, 0.607438  , ..., 0.28512397,\n",
       "          0.23966943, 0.21487603],\n",
       "         [0.49173555, 0.5413223 , 0.60330576, ..., 0.29752067,\n",
       "          0.20247933, 0.20661157],\n",
       "         [0.46694216, 0.55785125, 0.6198347 , ..., 0.29752067,\n",
       "          0.17768595, 0.18595041],\n",
       "         ...,\n",
       "         [0.03305785, 0.46280992, 0.5289256 , ..., 0.17355372,\n",
       "          0.17355372, 0.1694215 ],\n",
       "         [0.1570248 , 0.5247934 , 0.53305787, ..., 0.16528925,\n",
       "          0.1570248 , 0.18595041],\n",
       "         [0.45454547, 0.5206612 , 0.53305787, ..., 0.17768595,\n",
       "          0.14876033, 0.19008264]],\n",
       " \n",
       "        [[0.21487603, 0.21900827, 0.21900827, ..., 0.71487606,\n",
       "          0.71487606, 0.6942149 ],\n",
       "         [0.20247933, 0.20661157, 0.20661157, ..., 0.7107438 ,\n",
       "          0.7066116 , 0.6942149 ],\n",
       "         [0.2107438 , 0.20661157, 0.20661157, ..., 0.6859504 ,\n",
       "          0.69008267, 0.6942149 ],\n",
       "         ...,\n",
       "         [0.2644628 , 0.25619835, 0.2603306 , ..., 0.5413223 ,\n",
       "          0.57438016, 0.59090906],\n",
       "         [0.26859504, 0.2644628 , 0.26859504, ..., 0.56198347,\n",
       "          0.58264464, 0.59504133],\n",
       "         [0.27272728, 0.26859504, 0.27272728, ..., 0.57438016,\n",
       "          0.59090906, 0.60330576]],\n",
       " \n",
       "        [[0.5165289 , 0.46280992, 0.28099173, ..., 0.5785124 ,\n",
       "          0.5413223 , 0.60330576],\n",
       "         [0.5165289 , 0.45041323, 0.29338843, ..., 0.58264464,\n",
       "          0.553719  , 0.5785124 ],\n",
       "         [0.5165289 , 0.44214877, 0.29338843, ..., 0.59917355,\n",
       "          0.5785124 , 0.54545456],\n",
       "         ...,\n",
       "         [0.39256197, 0.41322315, 0.38842976, ..., 0.33471075,\n",
       "          0.37190083, 0.3966942 ],\n",
       "         [0.39256197, 0.38429752, 0.40495867, ..., 0.3305785 ,\n",
       "          0.35950413, 0.37603307],\n",
       "         [0.3677686 , 0.40495867, 0.3966942 , ..., 0.35950413,\n",
       "          0.3553719 , 0.38429752]]], dtype=float32),\n",
       " 'target': array([ 0,  0,  0,  0,  0,  0,  0,  0,  0,  0,  1,  1,  1,  1,  1,  1,  1,\n",
       "         1,  1,  1,  2,  2,  2,  2,  2,  2,  2,  2,  2,  2,  3,  3,  3,  3,\n",
       "         3,  3,  3,  3,  3,  3,  4,  4,  4,  4,  4,  4,  4,  4,  4,  4,  5,\n",
       "         5,  5,  5,  5,  5,  5,  5,  5,  5,  6,  6,  6,  6,  6,  6,  6,  6,\n",
       "         6,  6,  7,  7,  7,  7,  7,  7,  7,  7,  7,  7,  8,  8,  8,  8,  8,\n",
       "         8,  8,  8,  8,  8,  9,  9,  9,  9,  9,  9,  9,  9,  9,  9, 10, 10,\n",
       "        10, 10, 10, 10, 10, 10, 10, 10, 11, 11, 11, 11, 11, 11, 11, 11, 11,\n",
       "        11, 12, 12, 12, 12, 12, 12, 12, 12, 12, 12, 13, 13, 13, 13, 13, 13,\n",
       "        13, 13, 13, 13, 14, 14, 14, 14, 14, 14, 14, 14, 14, 14, 15, 15, 15,\n",
       "        15, 15, 15, 15, 15, 15, 15, 16, 16, 16, 16, 16, 16, 16, 16, 16, 16,\n",
       "        17, 17, 17, 17, 17, 17, 17, 17, 17, 17, 18, 18, 18, 18, 18, 18, 18,\n",
       "        18, 18, 18, 19, 19, 19, 19, 19, 19, 19, 19, 19, 19, 20, 20, 20, 20,\n",
       "        20, 20, 20, 20, 20, 20, 21, 21, 21, 21, 21, 21, 21, 21, 21, 21, 22,\n",
       "        22, 22, 22, 22, 22, 22, 22, 22, 22, 23, 23, 23, 23, 23, 23, 23, 23,\n",
       "        23, 23, 24, 24, 24, 24, 24, 24, 24, 24, 24, 24, 25, 25, 25, 25, 25,\n",
       "        25, 25, 25, 25, 25, 26, 26, 26, 26, 26, 26, 26, 26, 26, 26, 27, 27,\n",
       "        27, 27, 27, 27, 27, 27, 27, 27, 28, 28, 28, 28, 28, 28, 28, 28, 28,\n",
       "        28, 29, 29, 29, 29, 29, 29, 29, 29, 29, 29, 30, 30, 30, 30, 30, 30,\n",
       "        30, 30, 30, 30, 31, 31, 31, 31, 31, 31, 31, 31, 31, 31, 32, 32, 32,\n",
       "        32, 32, 32, 32, 32, 32, 32, 33, 33, 33, 33, 33, 33, 33, 33, 33, 33,\n",
       "        34, 34, 34, 34, 34, 34, 34, 34, 34, 34, 35, 35, 35, 35, 35, 35, 35,\n",
       "        35, 35, 35, 36, 36, 36, 36, 36, 36, 36, 36, 36, 36, 37, 37, 37, 37,\n",
       "        37, 37, 37, 37, 37, 37, 38, 38, 38, 38, 38, 38, 38, 38, 38, 38, 39,\n",
       "        39, 39, 39, 39, 39, 39, 39, 39, 39]),\n",
       " 'DESCR': '.. _olivetti_faces_dataset:\\n\\nThe Olivetti faces dataset\\n--------------------------\\n\\n`This dataset contains a set of face images`_ taken between April 1992 and \\nApril 1994 at AT&T Laboratories Cambridge. The\\n:func:`sklearn.datasets.fetch_olivetti_faces` function is the data\\nfetching / caching function that downloads the data\\narchive from AT&T.\\n\\n.. _This dataset contains a set of face images: https://cam-orl.co.uk/facedatabase.html\\n\\nAs described on the original website:\\n\\n    There are ten different images of each of 40 distinct subjects. For some\\n    subjects, the images were taken at different times, varying the lighting,\\n    facial expressions (open / closed eyes, smiling / not smiling) and facial\\n    details (glasses / no glasses). All the images were taken against a dark\\n    homogeneous background with the subjects in an upright, frontal position \\n    (with tolerance for some side movement).\\n\\n**Data Set Characteristics:**\\n\\n    =================   =====================\\n    Classes                                40\\n    Samples total                         400\\n    Dimensionality                       4096\\n    Features            real, between 0 and 1\\n    =================   =====================\\n\\nThe image is quantized to 256 grey levels and stored as unsigned 8-bit \\nintegers; the loader will convert these to floating point values on the \\ninterval [0, 1], which are easier to work with for many algorithms.\\n\\nThe \"target\" for this database is an integer from 0 to 39 indicating the\\nidentity of the person pictured; however, with only 10 examples per class, this\\nrelatively small dataset is more interesting from an unsupervised or\\nsemi-supervised perspective.\\n\\nThe original dataset consisted of 92 x 112, while the version available here\\nconsists of 64x64 images.\\n\\nWhen using these images, please give credit to AT&T Laboratories Cambridge.\\n'}"
      ]
     },
     "execution_count": 8,
     "metadata": {},
     "output_type": "execute_result"
    }
   ],
   "source": [
    "from sklearn.datasets import fetch_olivetti_faces\n",
    "faces = fetch_olivetti_faces()\n",
    "faces"
   ]
  },
  {
   "cell_type": "code",
   "execution_count": 9,
   "id": "3a39a1b4",
   "metadata": {},
   "outputs": [],
   "source": [
    "import matplotlib.pyplot as plt"
   ]
  },
  {
   "cell_type": "code",
   "execution_count": 10,
   "id": "48813478",
   "metadata": {},
   "outputs": [
    {
     "data": {
      "image/png": "[encoded data removed]",
      "text/plain": [
       "<Figure size 432x288 with 3 Axes>"
      ]
     },
     "metadata": {},
     "output_type": "display_data"
    }
   ],
   "source": [
    "f, ax = plt.subplots(1, 3)\n",
    "ax[0].imshow(faces.images[6], cmap = plt.cm.bone)\n",
    "ax[0].grid(False)\n",
    "ax[0].set_xticks([])\n",
    "ax[0].set_yticks([])\n",
    "ax[0].set_title('image 1 : $x_1$')\n",
    "\n",
    "ax[1].imshow(faces.images[10], cmap = plt.cm.bone)\n",
    "ax[1].grid(False)\n",
    "ax[1].set_xticks([])\n",
    "ax[1].set_yticks([])\n",
    "ax[1].set_title('image 2 : $x_2$')\n",
    "\n",
    "new_face = 0.7 * faces.images[6] + 0.3 * faces.images[10]\n",
    "ax[2].imshow(new_face, cmap = plt.cm.bone)\n",
    "ax[2].grid(False)\n",
    "ax[2].set_xticks([])\n",
    "ax[2].set_yticks([])\n",
    "ax[2].set_title('image 3 : $x_3$')\n",
    "\n",
    "plt.show()"
   ]
  },
  {
   "cell_type": "code",
   "execution_count": 11,
   "id": "5b13fa23",
   "metadata": {},
   "outputs": [
    {
     "data": {
      "image/png": "[encoded data removed]",
      "text/plain": [
       "<Figure size 648x648 with 8 Axes>"
      ]
     },
     "metadata": {},
     "output_type": "display_data"
    }
   ],
   "source": [
    "from sklearn.datasets import load_digits\n",
    "import matplotlib.gridspec as gridspec\n",
    "\n",
    "digits = load_digits()\n",
    "d1 = digits.images[0]\n",
    "d2 = digits.images[10]\n",
    "d3 = digits.images[1]\n",
    "d4 = digits.images[11]\n",
    "v1 = d1.reshape(64, 1)\n",
    "v2 = d2.reshape(64, 1)\n",
    "v3 = d3.reshape(64, 1)\n",
    "v4 = d4.reshape(64, 1)\n",
    "\n",
    "plt.figure(figsize = (9, 9))\n",
    "gs = gridspec.GridSpec(1, 8, height_ratios = [1],\n",
    "                      width_ratios =  [9, 1, 9, 1, 9, 1, 9, 1])\n",
    "for i in range(4):\n",
    "    plt.subplot(gs[2 * i])\n",
    "    plt.imshow(eval('d' + str(i + 1)), aspect = 1,\n",
    "              interpolation = 'nearest', cmap = plt.cm.bone_r)\n",
    "    plt.grid(False)\n",
    "    plt.xticks([])\n",
    "    plt.yticks([])\n",
    "    plt.title('image {}'.format(i + 1))\n",
    "    plt.subplot(gs[2 * i + 1])\n",
    "    plt.imshow(eval('v' + str(i + 1)), aspect = 0.25, \n",
    "              interpolation = 'nearest', cmap = plt.cm.bone_r)\n",
    "    plt.grid(False)\n",
    "    plt.xticks([])\n",
    "    plt.yticks([])\n",
    "    plt.title('vector {}'.format(i + 1))\n",
    "plt.tight_layout()\n",
    "plt.show()\n"
   ]
  },
  {
   "cell_type": "markdown",
   "id": "5e0c711a",
   "metadata": {},
   "source": [
    "# 밑바닥부터 시작하는 퍼셉트론"
   ]
  },
  {
   "cell_type": "markdown",
   "id": "0d85d478",
   "metadata": {},
   "source": [
    "## 퍼셉트론(perceptron)개념"
   ]
  },
  {
   "cell_type": "code",
   "execution_count": 12,
   "id": "b17c1afa",
   "metadata": {},
   "outputs": [],
   "source": [
    "from IPython.display import Image"
   ]
  },
  {
   "cell_type": "markdown",
   "id": "a87af69c",
   "metadata": {},
   "source": [
    "![](image/perceptron.jpg)"
   ]
  },
  {
   "cell_type": "markdown",
   "id": "d44f33b8",
   "metadata": {},
   "source": [
    "- x1, x2 는 입력신호, w1, w2 는 가중치를 뜻함\n",
    "- x1, x2 의 원을 뉴런 또는 노드 라고 부른다.\n",
    "- 뉴런에서 보내온 신호의 총합이 정해진 한계(임계값: 세타(theta:$\\theta$))를 넘어설 때만 1을 출력\n",
    "- return 0 => (w1 * x1 + w2 * x2) <= theta\n",
    "- return 1 => (w1 * x1 + w2 * x2) > theta"
   ]
  },
  {
   "cell_type": "markdown",
   "id": "740becc4",
   "metadata": {},
   "source": [
    "## 퍼셉트론 논리회로 이해하기 "
   ]
  },
  {
   "cell_type": "code",
   "execution_count": 13,
   "id": "b1034b1f",
   "metadata": {},
   "outputs": [],
   "source": [
    "# 두 값이 모두 같아야 함(1,1 -> 1)\n",
    "def AND(x1, x2):\n",
    "    w1, w2, theta = 0.5, 0.5, 0.7\n",
    "    tmp = x1*w1 + x2*w2 \n",
    "    if tmp <= theta:\n",
    "        return 0\n",
    "    else:\n",
    "        return 1"
   ]
  },
  {
   "cell_type": "code",
   "execution_count": 14,
   "id": "ab35a13b",
   "metadata": {},
   "outputs": [
    {
     "name": "stdout",
     "output_type": "stream",
     "text": [
      "0\n",
      "0\n",
      "0\n",
      "1\n"
     ]
    }
   ],
   "source": [
    "print(AND(0, 0))\n",
    "print(AND(0, 1))\n",
    "print(AND(1, 0))\n",
    "print(AND(1, 1))"
   ]
  },
  {
   "cell_type": "code",
   "execution_count": 15,
   "id": "4287fe85",
   "metadata": {},
   "outputs": [],
   "source": [
    "# 두 값이 모두 같아야 함(1,1 -> 0)\n",
    "# AND 함수의 반대\n",
    "def NAND(x1, x2):\n",
    "    w1, w2, theta = -0.5, -0.5, -0.7\n",
    "    tmp = x1*w1 + x2*w2 \n",
    "    if tmp <= theta:\n",
    "        return 0\n",
    "    else:\n",
    "        return 1"
   ]
  },
  {
   "cell_type": "code",
   "execution_count": 16,
   "id": "04eeccb0",
   "metadata": {},
   "outputs": [
    {
     "name": "stdout",
     "output_type": "stream",
     "text": [
      "1\n",
      "1\n",
      "1\n",
      "0\n"
     ]
    }
   ],
   "source": [
    "print(NAND(0, 0))\n",
    "print(NAND(0, 1))\n",
    "print(NAND(1, 0))\n",
    "print(NAND(1, 1))"
   ]
  },
  {
   "cell_type": "code",
   "execution_count": 17,
   "id": "483d5948",
   "metadata": {},
   "outputs": [],
   "source": [
    "# 두 값중 하나만 같아도 됨(0,1 ->1 or 1,0 ->1)\n",
    "# w1, w2가 양수이고, 각각 0.5, 0.4일 경우 theta값이 0 ~ 0.3 설정하면 OR함수를 만들 수 있다.\n",
    "def OR(x1, x2):\n",
    "    w1, w2, theta = 0.5, 0.4, 0.1\n",
    "    tmp = x1*w1 + x2*w2 \n",
    "    if tmp <= theta:\n",
    "        return 0\n",
    "    else:\n",
    "        return 1"
   ]
  },
  {
   "cell_type": "code",
   "execution_count": 18,
   "id": "6e7673ee",
   "metadata": {},
   "outputs": [
    {
     "name": "stdout",
     "output_type": "stream",
     "text": [
      "0\n",
      "1\n",
      "1\n",
      "1\n"
     ]
    }
   ],
   "source": [
    "print(OR(0, 0))\n",
    "print(OR(0, 1))\n",
    "print(OR(1, 0))\n",
    "print(OR(1, 1))"
   ]
  },
  {
   "cell_type": "markdown",
   "id": "9dcfafce",
   "metadata": {},
   "source": [
    "## 가중치와 편향"
   ]
  },
  {
   "cell_type": "markdown",
   "id": "8f98e84f",
   "metadata": {},
   "source": [
    "![](image/deeplearning.png)"
   ]
  },
  {
   "cell_type": "code",
   "execution_count": 19,
   "id": "1d65b1b8",
   "metadata": {},
   "outputs": [
    {
     "data": {
      "text/plain": [
       "array([0. , 0.5])"
      ]
     },
     "execution_count": 19,
     "metadata": {},
     "output_type": "execute_result"
    }
   ],
   "source": [
    "import numpy as np\n",
    "x = np.array([0, 1]) # 입력\n",
    "w = np.array([0.5, 0.5]) # 가중치\n",
    "b = -0.7 # 편향\n",
    "w * x "
   ]
  },
  {
   "cell_type": "code",
   "execution_count": 20,
   "id": "c38729fe",
   "metadata": {},
   "outputs": [
    {
     "data": {
      "text/plain": [
       "0.5"
      ]
     },
     "execution_count": 20,
     "metadata": {},
     "output_type": "execute_result"
    }
   ],
   "source": [
    "np.sum(w * x)"
   ]
  },
  {
   "cell_type": "code",
   "execution_count": 21,
   "id": "5ef17949",
   "metadata": {},
   "outputs": [
    {
     "data": {
      "text/plain": [
       "-0.19999999999999996"
      ]
     },
     "execution_count": 21,
     "metadata": {},
     "output_type": "execute_result"
    }
   ],
   "source": [
    "np.sum(w * x) + b"
   ]
  },
  {
   "cell_type": "code",
   "execution_count": 22,
   "id": "0b091a6b",
   "metadata": {},
   "outputs": [],
   "source": [
    "# XOR 게이트 만들기 \n",
    "def XOR(x1, x2):\n",
    "    w1, w2, theta = 0.5, 0.5, 0.7\n",
    "    b = -0.7\n",
    "    tmp = x1*w1 + x2*w2 \n",
    "    if tmp <= theta:\n",
    "        return 0\n",
    "    else:\n",
    "        return 1"
   ]
  },
  {
   "cell_type": "code",
   "execution_count": 23,
   "id": "ab6b5e67",
   "metadata": {},
   "outputs": [
    {
     "name": "stdout",
     "output_type": "stream",
     "text": [
      "0\n",
      "0\n",
      "0\n",
      "1\n"
     ]
    }
   ],
   "source": [
    "# 어떻게 하면 XOR 처럼 나올까?? p54\n",
    "# 결론 직선이라는 선형으로는 나올 수 없기 때문에 지금 배운 것으로는 구현할 수 없다!\n",
    "print(XOR(0, 0))\n",
    "print(XOR(0, 1))\n",
    "print(XOR(1, 0))\n",
    "print(XOR(1, 1))"
   ]
  },
  {
   "cell_type": "markdown",
   "id": "9f40e96b",
   "metadata": {},
   "source": [
    "# 다층 퍼셉트론 출동 "
   ]
  },
  {
   "cell_type": "markdown",
   "id": "b30f5b0f",
   "metadata": {},
   "source": [
    "## XOR게이트 구현하기"
   ]
  },
  {
   "cell_type": "markdown",
   "id": "65deb11f",
   "metadata": {},
   "source": [
    "- 퍼셉트론은 직선 하나로 나눈 영역만 표현할 수 있다는 한계가 있었음\n",
    "- 다층 퍼셉트론으로 XOR게이트를 구현할 예정"
   ]
  },
  {
   "cell_type": "markdown",
   "id": "36d746eb",
   "metadata": {},
   "source": [
    ">기존 게이트(AND, NAND, OR)를 조합해 구현해낸 XOR 게이트 "
   ]
  },
  {
   "cell_type": "markdown",
   "id": "8b829e9b",
   "metadata": {},
   "source": [
    "![](image/XORgate.jpg)"
   ]
  },
  {
   "cell_type": "code",
   "execution_count": 26,
   "id": "fa2e3b78",
   "metadata": {},
   "outputs": [],
   "source": [
    "def XOR(x1, x2):\n",
    "    s1 = NAND(x1, x2)\n",
    "    s2 = OR(x1, x2)\n",
    "    y = AND(s1, s2)\n",
    "    return y"
   ]
  },
  {
   "cell_type": "code",
   "execution_count": 27,
   "id": "59a3392a",
   "metadata": {},
   "outputs": [
    {
     "name": "stdout",
     "output_type": "stream",
     "text": [
      "0\n",
      "1\n",
      "1\n",
      "0\n"
     ]
    }
   ],
   "source": [
    "print(XOR(0, 0))\n",
    "print(XOR(0, 1))\n",
    "print(XOR(1, 0))\n",
    "print(XOR(1, 1))"
   ]
  },
  {
   "cell_type": "code",
   "execution_count": null,
   "id": "d50be42f",
   "metadata": {},
   "outputs": [],
   "source": []
  }
 ],
 "metadata": {
  "kernelspec": {
   "display_name": "Python 3 (ipykernel)",
   "language": "python",
   "name": "python3"
  },
  "language_info": {
   "codemirror_mode": {
    "name": "ipython",
    "version": 3
   },
   "file_extension": ".py",
   "mimetype": "text/x-python",
   "name": "python",
   "nbconvert_exporter": "python",
   "pygments_lexer": "ipython3",
   "version": "3.9.7"
  },
  "toc": {
   "base_numbering": 1,
   "nav_menu": {},
   "number_sections": true,
   "sideBar": true,
   "skip_h1_title": false,
   "title_cell": "Table of Contents",
   "title_sidebar": "Contents",
   "toc_cell": false,
   "toc_position": {},
   "toc_section_display": true,
   "toc_window_display": false
  }
 },
 "nbformat": 4,
 "nbformat_minor": 5
}
